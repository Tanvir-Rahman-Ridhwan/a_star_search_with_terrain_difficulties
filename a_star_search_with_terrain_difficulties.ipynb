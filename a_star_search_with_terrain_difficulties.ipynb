# Importing the necessary libraries
import heapq

# Define the graph as a dictionary
graph = {
    'A': {'B': 1, 'D': 1, 'E': 8},
    'B': {'C': 5, 'D': 1},
    'C': {},
    'D': {'C': 4, 'E': 2},
    'E': {'C': 1}
}

# Heuristic values (h) for each node
heuristic = {
    'A': 6,
    'B': 2,
    'C': 0,
    'D': 2,
    'E': 1
}
terrain_difficulty = {
'A': {'B': 2, 'D': 1, 'E': 4},
'B': {'C': 1, 'D': 2},
'C': {},
'D': {'C': 2, 'E': 3},
'E': {'C': 1}
}
# A* algorithm function
def a_star_search(graph, start, goal, heuristic):
    # Priority queue to store (cost, current_node, path)
    open_list = []
    heapq.heappush(open_list, (0 + heuristic[start], start, [start]))

    # Dictionary to store the cost to reach each node
    g_costs = {start: 0}

    while open_list:
        # Get the node with the lowest f(x) = g(x) + h(x)
        current_f_cost, current_node, path = heapq.heappop(open_list)

        # If the goal is reached, return the path and cost
        if current_node == goal:
            return path, g_costs[goal]

        # Iterate over the neighbors of the current node
        for neighbor, cost in graph[current_node].items():
            # Calculate the tentative g_cost for the neighbor
            tentative_g_cost = g_costs[current_node] + cost

            # If the neighbor is not in g_costs or the new g_cost is lower
            if neighbor not in g_costs or tentative_g_cost < g_costs[neighbor]:
                g_costs[neighbor] = tentative_g_cost
                #now calculate the new heuristic_prime
                heuristic_prime = heuristic[neighbor]+terrain_difficulty[current_node][neighbor]
                # Calculate the f_cost for the neighbor
                f_cost = tentative_g_cost + heuristic_prime
                # Add the neighbor to the priority queue
                heapq.heappush(open_list, (f_cost, neighbor, path + [neighbor]))

    return None, None

# Define the start and goal nodes
start_node = 'A'
goal_node = 'C'

# Perform the A* search
path, cost = a_star_search(graph, start_node, goal_node, heuristic)

# Print the results
print(f"Path: {' -> '.join(path)}")
print(f"Total Cost: {cost}")
